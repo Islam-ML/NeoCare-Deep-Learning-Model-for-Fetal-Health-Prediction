{
  "nbformat": 4,
  "nbformat_minor": 0,
  "metadata": {
    "colab": {
      "provenance": []
    },
    "kernelspec": {
      "name": "python3",
      "display_name": "Python 3"
    },
    "language_info": {
      "name": "python"
    }
  },
  "cells": [
    {
      "cell_type": "code",
      "source": [
        "# ================================================================\n",
        "# Project: Fetal Health Classification using Neural Networks\n",
        "# ================================================================\n",
        "# Author: [Islam Abdulrahim]\n",
        "# Description:\n",
        "# This project builds and evaluates a neural network model to classify fetal health conditions\n",
        "# (Normal, Suspect, Pathological) based on physiological features recorded from cardiotocograms.\n",
        "#\n",
        "# Dataset:\n",
        "# The dataset \"fetal_health.csv\" contains medical signal measurements used to assess fetal well-being.\n",
        "# Each row represents a patient record with 21 numerical features and a target variable (fetal_health).\n",
        "#\n",
        "# Objective:\n",
        "# To accurately predict the fetal health status using a deep learning model.\n",
        "#\n",
        "# Steps:\n",
        "# 1. Load and explore the dataset.\n",
        "# 2. Visualize feature distributions and relationships with the target.\n",
        "# 3. Preprocess data (scaling, train-test split).\n",
        "# 4. Build and train a neural network classifier.\n",
        "# 5. Evaluate the model using accuracy, confusion matrix, and classification report.\n",
        "# ================================================================"
      ],
      "metadata": {
        "id": "uJhZ4X7ii6lO"
      },
      "execution_count": null,
      "outputs": []
    },
    {
      "cell_type": "code",
      "execution_count": null,
      "metadata": {
        "id": "F_dF-zs1I0sB"
      },
      "outputs": [],
      "source": [
        "# 1. Import Required Libraries\n",
        "import pandas as pd\n",
        "import numpy as np\n",
        "import matplotlib.pyplot as plt\n",
        "import seaborn as sns"
      ]
    },
    {
      "cell_type": "code",
      "source": [
        "# 2. Load Dataset\n",
        "df = pd.read_csv('/content/fetal_health.csv')\n",
        "df.sample(5)\n"
      ],
      "metadata": {
        "id": "pGAC7MV7I_BG"
      },
      "execution_count": null,
      "outputs": []
    },
    {
      "cell_type": "code",
      "source": [
        "# Display dataset shape and information\n",
        "df.shape\n",
        "df.info()\n",
        "df.isnull().sum()"
      ],
      "metadata": {
        "id": "vP1I_bJzJRSy"
      },
      "execution_count": null,
      "outputs": []
    },
    {
      "cell_type": "code",
      "source": [
        "# 3. Visualization Setup\n",
        "sns.set(style=\"whitegrid\", palette=\"Set2\")\n",
        "plt.rcParams['figure.figsize'] = (8, 5)\n"
      ],
      "metadata": {
        "id": "LHY9ybezKfxm"
      },
      "execution_count": null,
      "outputs": []
    },
    {
      "cell_type": "code",
      "source": [
        "# 4. Define Feature Columns\n",
        "features = [\n",
        "    'baseline value', 'accelerations', 'fetal_movement', 'uterine_contractions',\n",
        "    'light_decelerations', 'severe_decelerations', 'prolongued_decelerations',\n",
        "    'abnormal_short_term_variability', 'mean_value_of_short_term_variability',\n",
        "    'percentage_of_time_with_abnormal_long_term_variability',\n",
        "    'histogram_min', 'histogram_max', 'histogram_number_of_peaks',\n",
        "    'histogram_number_of_zeroes', 'histogram_mode', 'histogram_mean',\n",
        "    'histogram_median', 'histogram_variance', 'histogram_tendency'\n",
        "]"
      ],
      "metadata": {
        "id": "RzcYpsO0ja34"
      },
      "execution_count": null,
      "outputs": []
    },
    {
      "cell_type": "code",
      "source": [
        "# 5. Visualize the Relationship Between Each Feature and the Target Variable\n",
        "for col in features:\n",
        "    plt.figure()\n",
        "    sns.boxplot(x='fetal_health', y=col, data=df)\n",
        "    plt.title(f'{col} vs Fetal Health', fontsize=13)\n",
        "    plt.xlabel('Fetal Health (1=Normal, 2=Suspect, 3=Pathological)')\n",
        "    plt.ylabel(col)\n",
        "    plt.tight_layout()\n",
        "    plt.show()\n",
        "    print('\\n\\n')"
      ],
      "metadata": {
        "id": "QAglq7rcjdrQ"
      },
      "execution_count": null,
      "outputs": []
    },
    {
      "cell_type": "code",
      "source": [
        "# 6. Feature and Target Separation\n",
        "X = df[features]\n",
        "y = df['fetal_health'] - 1  # Adjust labels for TensorFlow (0,1,2)\n"
      ],
      "metadata": {
        "id": "vNIlte8Sjg7E"
      },
      "execution_count": null,
      "outputs": []
    },
    {
      "cell_type": "code",
      "source": [
        "# 7. Feature Scaling\n",
        "from sklearn.preprocessing import StandardScaler\n",
        "scaler = StandardScaler()\n",
        "X = scaler.fit_transform(X)\n",
        "\n"
      ],
      "metadata": {
        "id": "Dj3muEykLHJ4"
      },
      "execution_count": null,
      "outputs": []
    },
    {
      "cell_type": "code",
      "source": [
        "import joblib\n",
        "joblib.dump(scaler, '/content/standard_scaler.pkl')\n",
        "print(\"✅ Scaler saved successfully.\")"
      ],
      "metadata": {
        "id": "_xYBxFFx3hSl"
      },
      "execution_count": null,
      "outputs": []
    },
    {
      "cell_type": "code",
      "source": [
        "# 8. Train-Test Split\n",
        "from sklearn.model_selection import train_test_split\n",
        "x_train, x_test, y_train, y_test = train_test_split(X, y, test_size=0.2, random_state=42)\n"
      ],
      "metadata": {
        "id": "KaM-DJpLLjm-"
      },
      "execution_count": null,
      "outputs": []
    },
    {
      "cell_type": "code",
      "source": [],
      "metadata": {
        "id": "Uzhzxka61Dqk"
      },
      "execution_count": null,
      "outputs": []
    },
    {
      "cell_type": "code",
      "source": [],
      "metadata": {
        "id": "nhwLDFT-1TWf"
      },
      "execution_count": null,
      "outputs": []
    },
    {
      "cell_type": "code",
      "source": [
        "# 9. Build Neural Network Model\n",
        "import tensorflow as tf\n",
        "from tensorflow import keras\n",
        "from tensorflow.keras import layers\n",
        "\n",
        "model = keras.Sequential([\n",
        "    layers.Dense(128, activation='relu', input_shape=(x_train.shape[1],)),\n",
        "    layers.Dropout(0.2),\n",
        "    layers.Dense(64, activation='relu'),\n",
        "    layers.Dropout(0.2),\n",
        "    layers.Dense(3, activation='softmax')  # Output layer for 3 fetal health classes\n",
        "])\n"
      ],
      "metadata": {
        "id": "uRGwcxmIMVg1"
      },
      "execution_count": null,
      "outputs": []
    },
    {
      "cell_type": "code",
      "source": [
        "# 10. Compile the Model\n",
        "from tensorflow.keras.optimizers import Adam\n",
        "\n",
        "model.compile(\n",
        "    optimizer=Adam(learning_rate=0.0005),\n",
        "    loss='sparse_categorical_crossentropy',\n",
        "    metrics=['accuracy']\n",
        ")"
      ],
      "metadata": {
        "id": "NLYV87XWNUnB"
      },
      "execution_count": null,
      "outputs": []
    },
    {
      "cell_type": "code",
      "source": [
        "# 11. Set Up Callbacks\n",
        "from tensorflow.keras.callbacks import EarlyStopping, ReduceLROnPlateau\n",
        "\n",
        "early_stop = EarlyStopping(monitor='val_loss', patience=10, restore_best_weights=True)\n",
        "reduce_lr = ReduceLROnPlateau(monitor='val_loss', factor=0.5, patience=5, min_lr=1e-5)"
      ],
      "metadata": {
        "id": "5S-NLq4cNYSw"
      },
      "execution_count": null,
      "outputs": []
    },
    {
      "cell_type": "code",
      "source": [
        "# 12. Train the Model\n",
        "history = model.fit(\n",
        "    x_train, y_train,\n",
        "    epochs=100,\n",
        "    batch_size=32,\n",
        "    validation_data=(X, y),\n",
        "    callbacks=[early_stop, reduce_lr]\n",
        ")\n"
      ],
      "metadata": {
        "id": "8ulxEabfNc8I"
      },
      "execution_count": null,
      "outputs": []
    },
    {
      "cell_type": "code",
      "source": [
        "# 13. Evaluate Model on Test Set\n",
        "test_loss, test_acc = model.evaluate(x_test, y_test)\n",
        "print(f\"\\nTest Accuracy: {test_acc*100:.2f}%\")"
      ],
      "metadata": {
        "id": "Pp5i7ieAkIWw"
      },
      "execution_count": null,
      "outputs": []
    },
    {
      "cell_type": "code",
      "source": [
        "# Accuracy Plot\n",
        "plt.subplot(1, 2, 1)\n",
        "plt.plot(history.history['accuracy'], label='Training Accuracy', linewidth=2)\n",
        "plt.plot(history.history['val_accuracy'], label='Validation Accuracy', linewidth=2, linestyle='--')\n",
        "plt.title('Accuracy Over Epochs')\n",
        "plt.xlabel('Epoch')\n",
        "plt.ylabel('Accuracy')\n",
        "plt.legend()\n",
        "plt.grid(True)\n",
        "print('\\n\\n')\n",
        "# Loss Plot\n",
        "plt.subplot(1, 2, 2)\n",
        "plt.plot(history.history['loss'], label='Training Loss', linewidth=2)\n",
        "plt.plot(history.history['val_loss'], label='Validation Loss', linewidth=2, linestyle='--')\n",
        "plt.title('Loss Over Epochs')\n",
        "plt.xlabel('Epoch')\n",
        "plt.ylabel('Loss')\n",
        "plt.legend()\n",
        "plt.grid(True)\n",
        "\n",
        "plt.tight_layout()\n",
        "plt.show()"
      ],
      "metadata": {
        "id": "wEFrpDM2NlbR"
      },
      "execution_count": null,
      "outputs": []
    },
    {
      "cell_type": "code",
      "source": [
        "# 15. Confusion Matrix\n",
        "from sklearn.metrics import confusion_matrix, ConfusionMatrixDisplay\n",
        "\n",
        "y_pred = model.predict(x_test)\n",
        "y_pred_classes = np.argmax(y_pred, axis=1)\n",
        "\n",
        "cm = confusion_matrix(y_test, y_pred_classes)\n",
        "labels = [1, 2, 3]\n",
        "\n",
        "disp = ConfusionMatrixDisplay(confusion_matrix=cm, display_labels=labels)\n",
        "disp.plot(cmap='Blues', values_format='d')\n",
        "plt.title(\"Confusion Matrix for Fetal Health Classification\")\n",
        "plt.show()"
      ],
      "metadata": {
        "id": "bi4oLA2ugB8y"
      },
      "execution_count": null,
      "outputs": []
    },
    {
      "cell_type": "code",
      "source": [
        "# 16. Classification Report\n",
        "from sklearn.metrics import classification_report\n",
        "\n",
        "print(\"Classification Report:\")\n",
        "print(classification_report(y_test, y_pred_classes, target_names=['Health 1', 'Health 2', 'Health 3']))\n"
      ],
      "metadata": {
        "id": "CJmPZob_gW3F"
      },
      "execution_count": null,
      "outputs": []
    },
    {
      "cell_type": "code",
      "source": [
        "# ======================\n",
        "# 17. Results Summary\n",
        "# ======================\n",
        "print(\"=============================================\")\n",
        "print(\"RESULTS SUMMARY\")\n",
        "print(\"=============================================\")\n",
        "print(f\"Final Test Accuracy: {test_acc*100:.2f}%\")\n",
        "print(\"The model demonstrates strong capability in classifying fetal health conditions.\")\n",
        "print(\"Health 1 (Normal) predictions are highly accurate, while Health 2 and 3 show solid generalization.\")\n",
        "print(\"=============================================\")"
      ],
      "metadata": {
        "id": "0n7poMKWk1F2"
      },
      "execution_count": null,
      "outputs": []
    },
    {
      "cell_type": "code",
      "source": [
        "# ======================\n",
        "# 18.*************\n",
        "# ======================\n",
        "import joblib\n",
        "\n",
        "# 1. Save the trained model\n",
        "model.save('/content/fetal_health_model.h5')\n",
        "print(\"✅ Model saved successfully at '/content/fetal_health_model.h5'\")"
      ],
      "metadata": {
        "id": "K3uofwMxlpj9"
      },
      "execution_count": null,
      "outputs": []
    },
    {
      "cell_type": "code",
      "source": [
        "import gradio as gr\n",
        "import numpy as np\n",
        "import joblib\n",
        "from tensorflow.keras.models import load_model\n",
        "\n",
        "# ============================\n",
        "# Load the trained model & scaler\n",
        "# ============================\n",
        "model = load_model('/content/fetal_health_model.h5')\n",
        "scaler = joblib.load('/content/standard_scaler.pkl')\n",
        "\n",
        "# ============================\n",
        "# Define prediction function\n",
        "# ============================\n",
        "def predict_fetal_health(\n",
        "    baseline_value, accelerations, fetal_movement, uterine_contractions,\n",
        "    light_decelerations, severe_decelerations, prolongued_decelerations,\n",
        "    abnormal_short_term_variability, mean_value_of_short_term_variability,\n",
        "    percentage_of_time_with_abnormal_long_term_variability,\n",
        "    histogram_min, histogram_max, histogram_number_of_peaks,\n",
        "    histogram_number_of_zeroes, histogram_mode, histogram_mean,\n",
        "    histogram_median, histogram_variance, histogram_tendency\n",
        "):\n",
        "    # Prepare input data\n",
        "    input_data = np.array([[baseline_value, accelerations, fetal_movement, uterine_contractions,\n",
        "                            light_decelerations, severe_decelerations, prolongued_decelerations,\n",
        "                            abnormal_short_term_variability, mean_value_of_short_term_variability,\n",
        "                            percentage_of_time_with_abnormal_long_term_variability,\n",
        "                            histogram_min, histogram_max, histogram_number_of_peaks,\n",
        "                            histogram_number_of_zeroes, histogram_mode, histogram_mean,\n",
        "                            histogram_median, histogram_variance, histogram_tendency]])\n",
        "\n",
        "    # Apply scaling\n",
        "    scaled_data = scaler.transform(input_data)\n",
        "\n",
        "    # Predict\n",
        "    prediction = model.predict(scaled_data)\n",
        "    predicted_class = np.argmax(prediction, axis=1)[0] + 1\n",
        "\n",
        "    # Label mapping\n",
        "    labels = {1: \"Normal\", 2: \"Suspect\", 3: \"Pathological\"}\n",
        "    messages = {\n",
        "        \"Normal\": \"🟢 Normal (Healthy Fetus)\",\n",
        "        \"Suspect\": \"🟡 Suspect (Needs Monitoring)\",\n",
        "        \"Pathological\": \"🔴 Pathological (High Risk)\"\n",
        "    }\n",
        "\n",
        "    return messages[labels[predicted_class]]\n",
        "\n",
        "# ============================\n",
        "# Custom CSS for Professional Dark Theme\n",
        "# ============================\n",
        "custom_css = \"\"\"\n",
        "/* General Styling */\n",
        ".gradio-container {\n",
        "    font-family: 'Segoe UI', 'Roboto', 'Helvetica Neue', sans-serif;\n",
        "    background: linear-gradient(135deg, #1a1a2e 0%, #16213e 100%);\n",
        "    color: #e0e0e0;\n",
        "    max-width: 1200px !important;\n",
        "    margin: auto;\n",
        "    padding: 20px;\n",
        "}\n",
        "\n",
        "/* Header Styling */\n",
        ".main-header {\n",
        "    text-align: center;\n",
        "    margin-bottom: 30px;\n",
        "    padding: 20px;\n",
        "    background: rgba(22, 33, 62, 0.7);\n",
        "    border-radius: 15px;\n",
        "    box-shadow: 0 8px 32px rgba(0, 0, 0, 0.3);\n",
        "    backdrop-filter: blur(10px);\n",
        "    border: 1px solid rgba(255, 255, 255, 0.1);\n",
        "}\n",
        "\n",
        "h1 {\n",
        "    color: #64ffda;\n",
        "    font-size: 2.5rem;\n",
        "    margin-bottom: 10px;\n",
        "    text-shadow: 0 0 10px rgba(100, 255, 218, 0.5);\n",
        "}\n",
        "\n",
        "h2, h3 {\n",
        "    color: #bb86fc;\n",
        "    margin-top: 15px;\n",
        "}\n",
        "\n",
        "/* Input Sections */\n",
        ".input-section {\n",
        "    background: rgba(22, 33, 62, 0.6);\n",
        "    border-radius: 12px;\n",
        "    padding: 20px;\n",
        "    margin-bottom: 20px;\n",
        "    box-shadow: 0 4px 15px rgba(0, 0, 0, 0.2);\n",
        "    border: 1px solid rgba(255, 255, 255, 0.05);\n",
        "}\n",
        "\n",
        ".section-title {\n",
        "    color: #03dac6;\n",
        "    font-size: 1.2rem;\n",
        "    margin-bottom: 15px;\n",
        "    padding-bottom: 8px;\n",
        "    border-bottom: 1px solid rgba(3, 218, 198, 0.3);\n",
        "}\n",
        "\n",
        "/* Input Fields */\n",
        ".form-group {\n",
        "    margin-bottom: 15px;\n",
        "}\n",
        "\n",
        "label {\n",
        "    color: #e1bee7;\n",
        "    font-weight: 500;\n",
        "}\n",
        "\n",
        "input[type=\"number\"] {\n",
        "    background: rgba(30, 30, 45, 0.8) !important;\n",
        "    border: 1px solid rgba(187, 134, 252, 0.3) !important;\n",
        "    border-radius: 8px !important;\n",
        "    color: #e0e0e0 !important;\n",
        "    padding: 10px !important;\n",
        "    transition: all 0.3s ease !important;\n",
        "}\n",
        "\n",
        "input[type=\"number\"]:focus {\n",
        "    border-color: #bb86fc !important;\n",
        "    box-shadow: 0 0 0 2px rgba(187, 134, 252, 0.2) !important;\n",
        "    outline: none !important;\n",
        "}\n",
        "\n",
        "/* Button Styling */\n",
        ".btn-primary {\n",
        "    background: linear-gradient(45deg, #bb86fc, #03dac6) !important;\n",
        "    border: none !important;\n",
        "    border-radius: 8px !important;\n",
        "    color: #121212 !important;\n",
        "    font-weight: 600 !important;\n",
        "    padding: 12px 30px !important;\n",
        "    transition: all 0.3s ease !important;\n",
        "    box-shadow: 0 4px 15px rgba(187, 134, 252, 0.3) !important;\n",
        "}\n",
        "\n",
        ".btn-primary:hover {\n",
        "    transform: translateY(-2px) !important;\n",
        "    box-shadow: 0 6px 20px rgba(187, 134, 252, 0.4) !important;\n",
        "}\n",
        "\n",
        "/* Output Box */\n",
        ".output-box {\n",
        "    background: rgba(22, 33, 62, 0.7);\n",
        "    border-radius: 12px;\n",
        "    padding: 20px;\n",
        "    margin-top: 20px;\n",
        "    box-shadow: 0 4px 15px rgba(0, 0, 0, 0.2);\n",
        "    border: 1px solid rgba(255, 255, 255, 0.05);\n",
        "    text-align: center;\n",
        "}\n",
        "\n",
        ".output-text {\n",
        "    font-size: 1.5rem;\n",
        "    font-weight: 600;\n",
        "    padding: 15px;\n",
        "    border-radius: 8px;\n",
        "    margin-top: 10px;\n",
        "}\n",
        "\n",
        ".normal-result {\n",
        "    background: rgba(76, 175, 80, 0.2);\n",
        "    border: 1px solid rgba(76, 175, 80, 0.5);\n",
        "    color: #81c784;\n",
        "}\n",
        "\n",
        ".suspect-result {\n",
        "    background: rgba(255, 193, 7, 0.2);\n",
        "    border: 1px solid rgba(255, 193, 7, 0.5);\n",
        "    color: #ffd54f;\n",
        "}\n",
        "\n",
        ".pathological-result {\n",
        "    background: rgba(244, 67, 54, 0.2);\n",
        "    border: 1px solid rgba(244, 67, 54, 0.5);\n",
        "    color: #e57373;\n",
        "}\n",
        "\n",
        "/* Footer */\n",
        ".footer {\n",
        "    display: none !important;\n",
        "}\n",
        "\n",
        "/* Tabs */\n",
        ".tabs {\n",
        "    background: rgba(22, 33, 62, 0.6) !important;\n",
        "    border-radius: 12px !important;\n",
        "    padding: 10px !important;\n",
        "    margin-bottom: 20px !important;\n",
        "}\n",
        "\n",
        ".tab-nav {\n",
        "    border-bottom: 1px solid rgba(187, 134, 252, 0.3) !important;\n",
        "}\n",
        "\n",
        ".tab-button {\n",
        "    color: #bb86fc !important;\n",
        "    font-weight: 500 !important;\n",
        "}\n",
        "\n",
        ".tab-button.selected {\n",
        "    color: #03dac6 !important;\n",
        "    border-bottom: 2px solid #03dac6 !important;\n",
        "}\n",
        "\n",
        "/* Info Box */\n",
        ".info-box {\n",
        "    background: rgba(3, 218, 198, 0.1);\n",
        "    border-left: 4px solid #03dac6;\n",
        "    border-radius: 8px;\n",
        "    padding: 15px;\n",
        "    margin: 20px 0;\n",
        "}\n",
        "\n",
        "/* Responsive Design */\n",
        "@media (max-width: 768px) {\n",
        "    .gradio-container {\n",
        "        padding: 10px;\n",
        "    }\n",
        "\n",
        "    h1 {\n",
        "        font-size: 2rem;\n",
        "    }\n",
        "\n",
        "    .input-section {\n",
        "        padding: 15px;\n",
        "    }\n",
        "}\n",
        "\"\"\"\n",
        "\n",
        "# ============================\n",
        "# Create input groups for better organization\n",
        "# ============================\n",
        "with gr.Blocks(css=custom_css, theme=gr.themes.Soft()) as app:\n",
        "    # Header\n",
        "    gr.HTML(\"\"\"\n",
        "    <div class=\"main-header\">\n",
        "        <h1>🩺 Fetal Health Classification System</h1>\n",
        "        <p style=\"color: #b0bec5; font-size: 1.1rem;\">Advanced AI-powered fetal health assessment tool</p>\n",
        "    </div>\n",
        "    \"\"\")\n",
        "\n",
        "    # Information Box\n",
        "    gr.HTML(\"\"\"\n",
        "    <div class=\"info-box\">\n",
        "        <p style=\"margin: 0; color: #e0e0e0;\">\n",
        "            <strong>Instructions:</strong> Enter the fetal monitoring parameters below to get an instant health assessment.\n",
        "            The system uses a neural network trained on comprehensive fetal health data.\n",
        "        </p>\n",
        "    </div>\n",
        "    \"\"\")\n",
        "\n",
        "    with gr.Tabs():\n",
        "        with gr.Tab(\"Basic Parameters\"):\n",
        "            with gr.Row():\n",
        "                with gr.Column():\n",
        "                    gr.Markdown(\"### 📊 Basic Fetal Monitoring\")\n",
        "                    with gr.Group(elem_classes=[\"input-section\"]):\n",
        "                        baseline_value = gr.Number(label=\"Baseline Value (bpm)\", value=120)\n",
        "                        accelerations = gr.Number(label=\"Accelerations\", value=0.0)\n",
        "                        fetal_movement = gr.Number(label=\"Fetal Movement\", value=0.0)\n",
        "                        uterine_contractions = gr.Number(label=\"Uterine Contractions\", value=0.0)\n",
        "\n",
        "                with gr.Column():\n",
        "                    gr.Markdown(\"### ⚠️ Decelerations\")\n",
        "                    with gr.Group(elem_classes=[\"input-section\"]):\n",
        "                        light_decelerations = gr.Number(label=\"Light Decelerations\", value=0.0)\n",
        "                        severe_decelerations = gr.Number(label=\"Severe Decelerations\", value=0.0)\n",
        "                        prolongued_decelerations = gr.Number(label=\"Prolonged Decelerations\", value=0.0)\n",
        "\n",
        "        with gr.Tab(\"Advanced Parameters\"):\n",
        "            with gr.Row():\n",
        "                with gr.Column():\n",
        "                    gr.Markdown(\"### 📈 Variability Metrics\")\n",
        "                    with gr.Group(elem_classes=[\"input-section\"]):\n",
        "                        abnormal_short_term_variability = gr.Number(label=\"Abnormal Short Term Variability\", value=50)\n",
        "                        mean_value_of_short_term_variability = gr.Number(label=\"Mean Value of Short Term Variability\", value=0.5)\n",
        "                        percentage_of_time_with_abnormal_long_term_variability = gr.Number(label=\"Percentage of Time with Abnormal Long Term Variability\", value=30)\n",
        "\n",
        "                with gr.Column():\n",
        "                    gr.Markdown(\"### 📊 Histogram Parameters\")\n",
        "                    with gr.Group(elem_classes=[\"input-section\"]):\n",
        "                        histogram_min = gr.Number(label=\"Histogram Min\", value=50)\n",
        "                        histogram_max = gr.Number(label=\"Histogram Max\", value=180)\n",
        "                        histogram_number_of_peaks = gr.Number(label=\"Histogram Number of Peaks\", value=2)\n",
        "                        histogram_number_of_zeroes = gr.Number(label=\"Histogram Number of Zeroes\", value=0)\n",
        "\n",
        "        with gr.Tab(\"Statistical Parameters\"):\n",
        "            with gr.Row():\n",
        "                with gr.Column():\n",
        "                    gr.Markdown(\"### 📉 Histogram Statistics\")\n",
        "                    with gr.Group(elem_classes=[\"input-section\"]):\n",
        "                        histogram_mode = gr.Number(label=\"Histogram Mode\", value=120)\n",
        "                        histogram_mean = gr.Number(label=\"Histogram Mean\", value=120)\n",
        "                        histogram_median = gr.Number(label=\"Histogram Median\", value=120)\n",
        "                        histogram_variance = gr.Number(label=\"Histogram Variance\", value=10)\n",
        "                        histogram_tendency = gr.Number(label=\"Histogram Tendency\", value=0)\n",
        "\n",
        "    # Prediction Button\n",
        "    predict_btn = gr.Button(\"🔍 Predict Fetal Health\", elem_classes=[\"btn-primary\"], size=\"lg\")\n",
        "\n",
        "    # Output Section\n",
        "    gr.HTML(\"\"\"\n",
        "    <div class=\"output-box\">\n",
        "        <h3 style=\"color: #03dac6; margin-top: 0;\">Prediction Result</h3>\n",
        "    </div>\n",
        "    \"\"\")\n",
        "\n",
        "    output = gr.Textbox(label=\"\", elem_classes=[\"output-text\"], interactive=False)\n",
        "\n",
        "    # Set up the prediction\n",
        "    predict_btn.click(\n",
        "        fn=predict_fetal_health,\n",
        "        inputs=[\n",
        "            baseline_value, accelerations, fetal_movement, uterine_contractions,\n",
        "            light_decelerations, severe_decelerations, prolongued_decelerations,\n",
        "            abnormal_short_term_variability, mean_value_of_short_term_variability,\n",
        "            percentage_of_time_with_abnormal_long_term_variability,\n",
        "            histogram_min, histogram_max, histogram_number_of_peaks,\n",
        "            histogram_number_of_zeroes, histogram_mode, histogram_mean,\n",
        "            histogram_median, histogram_variance, histogram_tendency\n",
        "        ],\n",
        "        outputs=output\n",
        "    )\n",
        "\n",
        "    # Footer\n",
        "    gr.HTML(\"\"\"\n",
        "    <div style=\"text-align: center; margin-top: 30px; color: #757575; font-size: 0.9rem;\">\n",
        "        <p>Fetal Health Classification System | Powered by Deep Learning</p>\n",
        "        <p style=\"margin-top: 5px;\">This tool is for informational purposes only and should not replace professional medical advice.</p>\n",
        "    </div>\n",
        "    \"\"\")\n",
        "\n",
        "# Launch the app\n",
        "app.launch()"
      ],
      "metadata": {
        "id": "nwxhvnYvXCY6"
      },
      "execution_count": null,
      "outputs": []
    }
  ]
}